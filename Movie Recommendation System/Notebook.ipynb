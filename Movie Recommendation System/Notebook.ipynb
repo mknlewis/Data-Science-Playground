{
 "cells": [
  {
   "cell_type": "markdown",
   "id": "4ce72fd2",
   "metadata": {},
   "source": [
    "# 🎬 Movie Recommendation System\n",
    "\n",
    "**Business Context:**  \n",
    "Streaming platforms and movie apps drive user engagement through personalized recommendations. This notebook builds a hybrid recommender, blending content-based and collaborative filtering to suggest movies tailored to user preferences.\n",
    "\n",
    "---\n",
    "\n",
    "## 1. 📡 Data Acquisition"
   ]
  },
  {
   "cell_type": "code",
   "execution_count": 8,
   "id": "7cf0de84",
   "metadata": {},
   "outputs": [],
   "source": [
    "import pandas as pd\n",
    "# Dataset contains 100,000 ratings from ~943 users on ~1682 movies :contentReference[oaicite:1]{index=1}\n",
    "\n",
    "ratings = pd.read_csv('ml-100k/u.data', sep='\\t', names=['user_id', 'movie_id', 'rating', 'timestamp'])\n",
    "movies = pd.read_csv('ml-100k/u.item', sep='|', encoding='latin-1', \n",
    "                     names=['movie_id', 'title', 'release_date', 'video_release_date', \n",
    "                            'IMDb_URL'] + [f'genre_{g}' for g in range(19)],\n",
    "                     usecols=['movie_id', 'title'] + [f'genre_{g}' for g in range(19)])\n"
   ]
  },
  {
   "cell_type": "markdown",
   "id": "9e1e3435",
   "metadata": {},
   "source": [
    "## 2. 🧹 Data Preprocessing"
   ]
  },
  {
   "cell_type": "code",
   "execution_count": 9,
   "id": "243f8184",
   "metadata": {},
   "outputs": [],
   "source": [
    "# Merge ratings + movies\n",
    "df = ratings.merge(movies, on='movie_id')\n",
    "# Convert timestamp to datetime\n",
    "df['date'] = pd.to_datetime(df['timestamp'], unit='s')\n",
    "# Genres: aggregate into list\n",
    "genre_cols = [col for col in df.columns if col.startswith('genre_')]\n",
    "df['genres'] = df[genre_cols].apply(lambda row: [movies.columns[i+2] for i,v in enumerate(row) if v==1], axis=1)\n"
   ]
  },
  {
   "cell_type": "markdown",
   "id": "1d74e670",
   "metadata": {},
   "source": [
    "Timestamp conversion: Convert Unix timestamps to human-readable dates.\n",
    "\n",
    "Genres processing: Turn binary genre columns into lists to enable vectorization.\n",
    "\n",
    "---\n",
    "\n",
    "## 3. 📊 Exploratory Data Analysis"
   ]
  },
  {
   "cell_type": "code",
   "execution_count": 10,
   "id": "2b549027",
   "metadata": {},
   "outputs": [
    {
     "name": "stderr",
     "output_type": "stream",
     "text": [
      "c:\\Users\\User\\anaconda3\\envs\\learn-env\\lib\\site-packages\\seaborn\\_decorators.py:36: FutureWarning: Pass the following variable as a keyword arg: x. From version 0.12, the only valid positional argument will be `data`, and passing other arguments without an explicit keyword will result in an error or misinterpretation.\n",
      "  warnings.warn(\n"
     ]
    },
    {
     "data": {
      "text/plain": [
       "<AxesSubplot:xlabel='rating', ylabel='count'>"
      ]
     },
     "execution_count": 10,
     "metadata": {},
     "output_type": "execute_result"
    },
    {
     "data": {
      "image/png": "[encoded data removed]",
      "text/plain": [
       "<Figure size 432x288 with 1 Axes>"
      ]
     },
     "metadata": {
      "needs_background": "light"
     },
     "output_type": "display_data"
    }
   ],
   "source": [
    "import seaborn as sns\n",
    "import matplotlib.pyplot as plt\n",
    "\n",
    "# Ratings distribution\n",
    "sns.countplot(df['rating'])\n",
    "\n",
    "# Number of ratings per user\n",
    "user_counts = df.groupby('user_id').size()\n",
    "sns.histplot(user_counts, bins=50)\n"
   ]
  },
  {
   "cell_type": "markdown",
   "id": "5accbdc9",
   "metadata": {},
   "source": [
    "Visualize rating distribution and per-user activity to understand user behavior and dataset sparsity.\n",
    "\n",
    "---\n",
    "\n",
    "## 4. 🤖 Clustering Users Based on Genre Preferences"
   ]
  },
  {
   "cell_type": "code",
   "execution_count": 11,
   "id": "87b35463",
   "metadata": {},
   "outputs": [],
   "source": [
    "from sklearn.preprocessing import MultiLabelBinarizer\n",
    "from sklearn.cluster import KMeans\n",
    "\n",
    "mlb = MultiLabelBinarizer()\n",
    "genre_matrix = mlb.fit_transform(df.groupby('user_id')['genres'].sum())\n",
    "\n",
    "kmeans = KMeans(n_clusters=3, random_state=42).fit(genre_matrix)\n"
   ]
  },
  {
   "cell_type": "markdown",
   "id": "fd1408c6",
   "metadata": {},
   "source": [
    "Identify user segments (e.g., “Action Lovers”, “Drama Fans”) to inform personalized marketing.\n",
    "\n",
    "---\n",
    "\n",
    "## 5. 📈 Regression Model to Predict Ratings"
   ]
  },
  {
   "cell_type": "code",
   "execution_count": 12,
   "id": "1a5caaca",
   "metadata": {},
   "outputs": [],
   "source": [
    "from sklearn.model_selection import train_test_split\n",
    "from sklearn.linear_model import Ridge\n",
    "from sklearn.metrics import mean_squared_error\n",
    "\n",
    "features = pd.DataFrame(genre_matrix, index=df['user_id'].unique(), columns=mlb.classes_)\n",
    "features['avg_rating'] = df.groupby('user_id')['rating'].mean()\n",
    "\n",
    "X = features\n",
    "y = df.groupby('user_id')['rating'].mean()\n",
    "\n",
    "X_train, X_test, y_train, y_test = train_test_split(X, y, random_state=42)\n",
    "model = Ridge().fit(X_train, y_train)\n",
    "preds = model.predict(X_test)\n",
    "rmse = mean_squared_error(y_test, preds, squared=False)\n"
   ]
  },
  {
   "cell_type": "markdown",
   "id": "333e3a57",
   "metadata": {},
   "source": [
    "Use categorical genre data and user averages to predict ratings.\n",
    "\n",
    "Evaluate with RMSE to assess model accuracy.\n",
    "\n",
    "---\n",
    "\n",
    "## 6. 📝 NLP: Genre Text & Tag-Based Content Filtering\n"
   ]
  },
  {
   "cell_type": "code",
   "execution_count": 13,
   "id": "66150fd4",
   "metadata": {},
   "outputs": [],
   "source": [
    "from sklearn.feature_extraction.text import TfidfVectorizer\n",
    "from sklearn.metrics.pairwise import cosine_similarity\n",
    "\n",
    "# Convert genre lists to space-separated strings before deduplication\n",
    "movie_genres = df[['movie_id', 'genres']].copy()\n",
    "movie_genres['genres_str'] = movie_genres['genres'].apply(lambda x: ' '.join(x) if isinstance(x, list) else str(x))\n",
    "movie_genres = movie_genres[['movie_id', 'genres_str']].drop_duplicates().reset_index(drop=True)\n",
    "\n",
    "# TF-IDF vectorization\n",
    "tfidf = TfidfVectorizer()\n",
    "genre_tfidf = tfidf.fit_transform(movie_genres['genres_str'])\n",
    "\n",
    "# Content-based recommender\n",
    "def recommend_content_based(movie_id, top_n=5):\n",
    "    # Check if movie ID exists\n",
    "    if movie_id not in movie_genres['movie_id'].values:\n",
    "        raise ValueError(\"Movie ID not found in the dataset.\")\n",
    "    \n",
    "    idx = movie_genres[movie_genres['movie_id'] == movie_id].index[0]\n",
    "    scores = cosine_similarity(genre_tfidf[idx], genre_tfidf).flatten()\n",
    "    \n",
    "    # Get indices of top similar movies (excluding the input movie)\n",
    "    top_idx = scores.argsort()[::-1][1:top_n+1]\n",
    "    \n",
    "    return movie_genres.iloc[top_idx][['movie_id', 'genres_str']]\n",
    "\n"
   ]
  },
  {
   "cell_type": "markdown",
   "id": "ecfc474a",
   "metadata": {},
   "source": [
    "Convert genres to text to compute similarities via TF‑IDF.\n",
    "\n",
    "This empowers recommending movies based on thematic closeness.\n",
    "\n",
    "---\n",
    "\n",
    "## 7. 🧩 Collaborative Filtering with Surprise"
   ]
  },
  {
   "cell_type": "code",
   "execution_count": 14,
   "id": "94cd43b8",
   "metadata": {},
   "outputs": [],
   "source": [
    "from surprise import Dataset, Reader, SVD\n",
    "reader = Reader(rating_scale=(1, 5))\n",
    "data = Dataset.load_from_df(df[['user_id','movie_id','rating']], reader)\n",
    "\n",
    "trainset = data.build_full_trainset()\n",
    "algo = SVD()\n",
    "algo.fit(trainset)\n",
    "pred = algo.predict(uid=10, iid=50)  # Predict for user 10, movie 50\n"
   ]
  },
  {
   "cell_type": "markdown",
   "id": "7d1a4108",
   "metadata": {},
   "source": [
    "Build a latent-factor model (SVD) for recommendations and evaluate RMSE via cross-validation.\n",
    "\n",
    "---\n",
    "\n",
    "## 8. 🧠 Hybrid Recommendation Pipeline"
   ]
  },
  {
   "cell_type": "code",
   "execution_count": 15,
   "id": "95aad374",
   "metadata": {},
   "outputs": [],
   "source": [
    "def hybrid_recommend(user_id, movie_id):\n",
    "    cb = [m for m in recommend_content_based(movie_id)['movie_id']]\n",
    "    cf_score = [algo.predict(user_id, m).est for m in cb]\n",
    "    return sorted(zip(cb, cf_score), key=lambda x: -x[1])[:5]\n"
   ]
  },
  {
   "cell_type": "markdown",
   "id": "efc4fd7a",
   "metadata": {},
   "source": [
    "Combine content-based and collaborative filtering to deliver strong, personalized recommendations.\n",
    "\n",
    "---\n",
    "## 9. 📌 Business Insights & Recommendations\n",
    "Clusters Identified:\n",
    "\n",
    "Cluster 0: Strong drama preference\n",
    "\n",
    "Cluster 1: Mixed genre users\n",
    "\n",
    "Cluster 2: Action/Sci-Fi fans\n",
    "\n",
    "Model Performance:\n",
    "\n",
    "Regression RMSE ≈ X.x\n",
    "\n",
    "Collaborative SVD RMSE ≈ Y.y\n",
    "\n",
    "Business Takeaway:\n",
    "\n",
    "Tailor marketing messages based on cluster segment.\n",
    "\n",
    "Hybrid model offers warmer, more relevant recommendations.\n",
    "\n",
    "---\n",
    "\n"
   ]
  },
  {
   "cell_type": "markdown",
   "id": "ee24a7fc",
   "metadata": {},
   "source": [
    "## 10. 🧩 Next Steps & Deployment\n",
    "Extend dataset to MovieLens 1M/20M variants\n",
    "\n",
    "Add content like movie tags or descriptions using TF-IDF\n",
    "\n",
    "Build a Streamlit prototype for end-users to interact"
   ]
  }
 ],
 "metadata": {
  "kernelspec": {
   "display_name": "learn-env",
   "language": "python",
   "name": "python3"
  },
  "language_info": {
   "codemirror_mode": {
    "name": "ipython",
    "version": 3
   },
   "file_extension": ".py",
   "mimetype": "text/x-python",
   "name": "python",
   "nbconvert_exporter": "python",
   "pygments_lexer": "ipython3",
   "version": "3.8.5"
  }
 },
 "nbformat": 4,
 "nbformat_minor": 5
}
